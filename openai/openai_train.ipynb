{
 "cells": [
  {
   "cell_type": "code",
   "execution_count": 2,
   "metadata": {},
   "outputs": [],
   "source": [
    "import openai"
   ]
  },
  {
   "cell_type": "code",
   "execution_count": 3,
   "metadata": {},
   "outputs": [],
   "source": [
    "training_file_name = 'train_oai_format.jsonl'\n",
    "validation_file_name = 'validation_oai_format.jsonl'"
   ]
  },
  {
   "cell_type": "code",
   "execution_count": 4,
   "metadata": {},
   "outputs": [
    {
     "name": "stdout",
     "output_type": "stream",
     "text": [
      "Training file id: file-alWU6ko5MfeGqeqzUMD1a6Ss\n",
      "Validation file id: file-dw9JErGoqezCbwOKt9HaojH8\n"
     ]
    }
   ],
   "source": [
    "training_response = openai.File.create(\n",
    "    file=open(training_file_name, \"rb\"), purpose=\"fine-tune\"\n",
    ")\n",
    "training_file_id = training_response[\"id\"]\n",
    "\n",
    "validation_response = openai.File.create(\n",
    "    file=open(validation_file_name, \"rb\"), purpose=\"fine-tune\"\n",
    ")\n",
    "validation_file_id = validation_response[\"id\"]\n",
    "\n",
    "print(\"Training file id:\", training_file_id)\n",
    "print(\"Validation file id:\", validation_file_id)"
   ]
  },
  {
   "cell_type": "code",
   "execution_count": 24,
   "metadata": {},
   "outputs": [
    {
     "name": "stdout",
     "output_type": "stream",
     "text": [
      "object\n",
      "data\n"
     ]
    },
    {
     "data": {
      "text/plain": [
       "[<File file id=file-3OyhIOQJv2IC7zjtucoMyWA3 at 0x7fbdc35e8fe0> JSON: {\n",
       "   \"object\": \"file\",\n",
       "   \"id\": \"file-3OyhIOQJv2IC7zjtucoMyWA3\",\n",
       "   \"purpose\": \"fine-tune\",\n",
       "   \"filename\": \"file\",\n",
       "   \"bytes\": 725641,\n",
       "   \"created_at\": 1693959449,\n",
       "   \"status\": \"processed\",\n",
       "   \"status_details\": null\n",
       " },\n",
       " <File file id=file-dfHHeqzRDWY3IxNQPHmbrBKF at 0x7fbdc35e8ea0> JSON: {\n",
       "   \"object\": \"file\",\n",
       "   \"id\": \"file-dfHHeqzRDWY3IxNQPHmbrBKF\",\n",
       "   \"purpose\": \"fine-tune-results\",\n",
       "   \"filename\": \"step_metrics.csv\",\n",
       "   \"bytes\": 12839,\n",
       "   \"created_at\": 1693961277,\n",
       "   \"status\": \"processed\",\n",
       "   \"status_details\": null\n",
       " },\n",
       " <File file id=file-bMIa0DY06LZRS66daqo8KKur at 0x7fbdc3b658f0> JSON: {\n",
       "   \"object\": \"file\",\n",
       "   \"id\": \"file-bMIa0DY06LZRS66daqo8KKur\",\n",
       "   \"purpose\": \"fine-tune\",\n",
       "   \"filename\": \"file\",\n",
       "   \"bytes\": 16604,\n",
       "   \"created_at\": 1693959450,\n",
       "   \"status\": \"processed\",\n",
       "   \"status_details\": null\n",
       " },\n",
       " <File file id=file-1gZYvs0FEshyoIpRzKimzANM at 0x7fbdc3b65670> JSON: {\n",
       "   \"object\": \"file\",\n",
       "   \"id\": \"file-1gZYvs0FEshyoIpRzKimzANM\",\n",
       "   \"purpose\": \"fine-tune\",\n",
       "   \"filename\": \"file\",\n",
       "   \"bytes\": 2483671,\n",
       "   \"created_at\": 1694301423,\n",
       "   \"status\": \"processed\",\n",
       "   \"status_details\": null\n",
       " },\n",
       " <File file id=file-Hsj59REp66Z8xLcAoFwWbfop at 0x7fbdc3b65fd0> JSON: {\n",
       "   \"object\": \"file\",\n",
       "   \"id\": \"file-Hsj59REp66Z8xLcAoFwWbfop\",\n",
       "   \"purpose\": \"fine-tune\",\n",
       "   \"filename\": \"file\",\n",
       "   \"bytes\": 352492,\n",
       "   \"created_at\": 1694301424,\n",
       "   \"status\": \"processed\",\n",
       "   \"status_details\": null\n",
       " },\n",
       " <File file id=file-alWU6ko5MfeGqeqzUMD1a6Ss at 0x7fbdc3b66070> JSON: {\n",
       "   \"object\": \"file\",\n",
       "   \"id\": \"file-alWU6ko5MfeGqeqzUMD1a6Ss\",\n",
       "   \"purpose\": \"fine-tune\",\n",
       "   \"filename\": \"file\",\n",
       "   \"bytes\": 5194070,\n",
       "   \"created_at\": 1694555652,\n",
       "   \"status\": \"processed\",\n",
       "   \"status_details\": null\n",
       " },\n",
       " <File file id=file-O0dtPfNRGr5h6jdrgJFjryS4 at 0x7fbdc3b661b0> JSON: {\n",
       "   \"object\": \"file\",\n",
       "   \"id\": \"file-O0dtPfNRGr5h6jdrgJFjryS4\",\n",
       "   \"purpose\": \"fine-tune-results\",\n",
       "   \"filename\": \"step_metrics.csv\",\n",
       "   \"bytes\": 31277,\n",
       "   \"created_at\": 1694305616,\n",
       "   \"status\": \"processed\",\n",
       "   \"status_details\": null\n",
       " },\n",
       " <File file id=file-dw9JErGoqezCbwOKt9HaojH8 at 0x7fbdc3b662a0> JSON: {\n",
       "   \"object\": \"file\",\n",
       "   \"id\": \"file-dw9JErGoqezCbwOKt9HaojH8\",\n",
       "   \"purpose\": \"fine-tune\",\n",
       "   \"filename\": \"file\",\n",
       "   \"bytes\": 1082345,\n",
       "   \"created_at\": 1694555654,\n",
       "   \"status\": \"processed\",\n",
       "   \"status_details\": null\n",
       " },\n",
       " <File file id=file-21NlUm9qDZFekimSdNd6ks1Z at 0x7fbdc3b66340> JSON: {\n",
       "   \"object\": \"file\",\n",
       "   \"id\": \"file-21NlUm9qDZFekimSdNd6ks1Z\",\n",
       "   \"purpose\": \"fine-tune-results\",\n",
       "   \"filename\": \"step_metrics.csv\",\n",
       "   \"bytes\": 28500,\n",
       "   \"created_at\": 1694564620,\n",
       "   \"status\": \"processed\",\n",
       "   \"status_details\": null\n",
       " }]"
      ]
     },
     "execution_count": 24,
     "metadata": {},
     "output_type": "execute_result"
    }
   ],
   "source": [
    "files = openai.File.list()\n",
    "for f in files:\n",
    "    print(f)\n",
    "files[\"data\"]"
   ]
  },
  {
   "cell_type": "code",
   "execution_count": 13,
   "metadata": {},
   "outputs": [
    {
     "name": "stdout",
     "output_type": "stream",
     "text": [
      "{\n",
      "  \"object\": \"fine_tuning.job\",\n",
      "  \"id\": \"ftjob-ZL1NDBa7ofZCXJ2vomhOOt2t\",\n",
      "  \"model\": \"gpt-3.5-turbo-0613\",\n",
      "  \"created_at\": 1694559433,\n",
      "  \"finished_at\": null,\n",
      "  \"fine_tuned_model\": null,\n",
      "  \"organization_id\": \"org-6lW1AY417K1K5QQmvSBBRVoj\",\n",
      "  \"result_files\": [],\n",
      "  \"status\": \"created\",\n",
      "  \"validation_file\": \"file-dw9JErGoqezCbwOKt9HaojH8\",\n",
      "  \"training_file\": \"file-alWU6ko5MfeGqeqzUMD1a6Ss\",\n",
      "  \"hyperparameters\": {\n",
      "    \"n_epochs\": 2\n",
      "  },\n",
      "  \"trained_tokens\": null,\n",
      "  \"error\": null\n",
      "}\n"
     ]
    }
   ],
   "source": [
    "suffix_name = \"viggo-func-reps\"\n",
    "\n",
    "\n",
    "response = openai.FineTuningJob.create(\n",
    "    training_file=training_file_id,\n",
    "    validation_file=validation_file_id,\n",
    "    model=\"gpt-3.5-turbo-0613\",\n",
    "    suffix=suffix_name,\n",
    "    # epo\n",
    "    hyperparameters={\n",
    "      \"n_epochs\": 2\n",
    "    }\n",
    ")\n",
    "\n",
    "job_id = response[\"id\"]\n",
    "\n",
    "print(response)"
   ]
  },
  {
   "cell_type": "code",
   "execution_count": 18,
   "metadata": {},
   "outputs": [
    {
     "name": "stdout",
     "output_type": "stream",
     "text": [
      "{\n",
      "  \"object\": \"fine_tuning.job\",\n",
      "  \"id\": \"ftjob-ZL1NDBa7ofZCXJ2vomhOOt2t\",\n",
      "  \"model\": \"gpt-3.5-turbo-0613\",\n",
      "  \"created_at\": 1694559433,\n",
      "  \"finished_at\": 1694564618,\n",
      "  \"fine_tuned_model\": \"ft:gpt-3.5-turbo-0613:personal:viggo-func-reps:7y7xLOy4\",\n",
      "  \"organization_id\": \"org-6lW1AY417K1K5QQmvSBBRVoj\",\n",
      "  \"result_files\": [\n",
      "    \"file-21NlUm9qDZFekimSdNd6ks1Z\"\n",
      "  ],\n",
      "  \"status\": \"succeeded\",\n",
      "  \"validation_file\": \"file-dw9JErGoqezCbwOKt9HaojH8\",\n",
      "  \"training_file\": \"file-alWU6ko5MfeGqeqzUMD1a6Ss\",\n",
      "  \"hyperparameters\": {\n",
      "    \"n_epochs\": 2\n",
      "  },\n",
      "  \"trained_tokens\": 2150968,\n",
      "  \"error\": null\n",
      "}\n"
     ]
    }
   ],
   "source": [
    "response = openai.FineTuningJob.retrieve(job_id)\n",
    "print(response)"
   ]
  },
  {
   "cell_type": "code",
   "execution_count": 17,
   "metadata": {},
   "outputs": [
    {
     "name": "stdout",
     "output_type": "stream",
     "text": [
      "Created fine-tuning job: ftjob-ZL1NDBa7ofZCXJ2vomhOOt2t\n",
      "Fine tuning job started\n",
      "Fine tuning job failed, re-enqueued for retry\n",
      "Fine tuning job started\n",
      "Fine tuning job failed, re-enqueued for retry\n",
      "Fine tuning job started\n",
      "Step 100/1701: training loss=0.11\n",
      "Step 200/1701: training loss=0.01\n",
      "Step 300/1701: training loss=0.00\n",
      "Step 400/1701: training loss=0.15\n",
      "Step 500/1701: training loss=0.00\n",
      "Step 600/1701: training loss=0.00\n",
      "Step 700/1701: training loss=0.10\n",
      "Step 800/1701: training loss=0.12\n",
      "Step 900/1701: training loss=0.00\n",
      "Step 1000/1701: training loss=0.00\n",
      "Step 1100/1701: training loss=0.00\n",
      "Step 1200/1701: training loss=0.06\n",
      "Step 1300/1701: training loss=0.00\n",
      "Step 1400/1701: training loss=0.00\n",
      "Step 1500/1701: training loss=0.08\n"
     ]
    }
   ],
   "source": [
    "response = openai.FineTuningJob.list_events(id=job_id, limit=50)\n",
    "\n",
    "events = response[\"data\"]\n",
    "events.reverse()\n",
    "# print(events)\n",
    "for event in events:\n",
    "    print(event[\"message\"])"
   ]
  },
  {
   "cell_type": "code",
   "execution_count": 28,
   "metadata": {},
   "outputs": [
    {
     "ename": "TypeError",
     "evalue": "descriptor 'values' for 'dict' objects doesn't apply to a 'str' object",
     "output_type": "error",
     "traceback": [
      "\u001b[0;31m---------------------------------------------------------------------------\u001b[0m",
      "\u001b[0;31mTypeError\u001b[0m                                 Traceback (most recent call last)",
      "Cell \u001b[0;32mIn[28], line 1\u001b[0m\n\u001b[0;32m----> 1\u001b[0m file \u001b[39m=\u001b[39m openai\u001b[39m.\u001b[39;49mFile\u001b[39m.\u001b[39;49mvalues(\u001b[39m\"\u001b[39;49m\u001b[39mfile-21NlUm9qDZFekimSdNd6ks1Z\u001b[39;49m\u001b[39m\"\u001b[39;49m)\n",
      "\u001b[0;31mTypeError\u001b[0m: descriptor 'values' for 'dict' objects doesn't apply to a 'str' object"
     ]
    }
   ],
   "source": [
    "file = openai.File.re"
   ]
  },
  {
   "cell_type": "code",
   "execution_count": 26,
   "metadata": {},
   "outputs": [
    {
     "data": {
      "text/plain": [
       "<File file id=file-21NlUm9qDZFekimSdNd6ks1Z at 0x7fbdc35ea0c0> JSON: {\n",
       "  \"object\": \"file\",\n",
       "  \"id\": \"file-21NlUm9qDZFekimSdNd6ks1Z\",\n",
       "  \"purpose\": \"fine-tune-results\",\n",
       "  \"filename\": \"step_metrics.csv\",\n",
       "  \"bytes\": 28500,\n",
       "  \"created_at\": 1694564620,\n",
       "  \"status\": \"processed\",\n",
       "  \"status_details\": null\n",
       "}"
      ]
     },
     "execution_count": 26,
     "metadata": {},
     "output_type": "execute_result"
    }
   ],
   "source": [
    "file"
   ]
  },
  {
   "cell_type": "code",
   "execution_count": null,
   "metadata": {},
   "outputs": [],
   "source": []
  }
 ],
 "metadata": {
  "kernelspec": {
   "display_name": "spider-eval",
   "language": "python",
   "name": "python3"
  },
  "language_info": {
   "codemirror_mode": {
    "name": "ipython",
    "version": 3
   },
   "file_extension": ".py",
   "mimetype": "text/x-python",
   "name": "python",
   "nbconvert_exporter": "python",
   "pygments_lexer": "ipython3",
   "version": "3.10.12"
  },
  "orig_nbformat": 4
 },
 "nbformat": 4,
 "nbformat_minor": 2
}
